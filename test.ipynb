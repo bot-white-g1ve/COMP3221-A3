{
 "cells": [
  {
   "cell_type": "code",
   "execution_count": 3,
   "metadata": {},
   "outputs": [
    {
     "name": "stdout",
     "output_type": "stream",
     "text": [
      "^C\n"
     ]
    }
   ],
   "source": [
    "!python COMP3221_BlockchainNode.py 5001 test/A.txt"
   ]
  },
  {
   "cell_type": "code",
   "execution_count": null,
   "metadata": {},
   "outputs": [],
   "source": [
    "import socket\n",
    "\n",
    "def send_prefixed_message(sock, message):\n",
    "    \"\"\" Send a message with a length prefix. \"\"\"\n",
    "    message = message.encode('utf-8')\n",
    "    message_length = len(message)\n",
    "    sock.sendall(message_length.to_bytes(2, byteorder='big') + message)\n",
    "    \n",
    "def recv_prefixed_message(sock):\n",
    "    \"\"\"Receive a prefixed message from the given socket.\"\"\"\n",
    "    prefix = sock.recv(2)\n",
    "    if not prefix:\n",
    "        return None\n",
    "\n",
    "    message_length = int.from_bytes(prefix, byteorder='big')\n",
    "    message = sock.recv(message_length)\n",
    "    return message.decode('utf-8')\n",
    "\n",
    "def d_print(*args):\n",
    "    \"\"\" Debug print function. \"\"\"\n",
    "    print(\"DEBUG:\", *args)\n",
    "\n",
    "def client_thread(host, port, message):\n",
    "    \"\"\" Connect to the server, send a message, and receive a response. \"\"\"\n",
    "    with socket.socket(socket.AF_INET, socket.SOCK_STREAM) as sock:\n",
    "        sock.connect((host, port))\n",
    "        d_print(\"Connected to server at\", host, port)\n",
    "        \n",
    "        send_prefixed_message(sock, message)\n",
    "        d_print(\"Sent message:\", message)\n",
    "        \n",
    "        response = recv_prefixed_message(sock)\n",
    "        if response:\n",
    "            d_print(\"Received response:\", response)\n",
    "\n",
    "\n",
    "HOST, PORT = '127.0.0.1', 9999\n",
    "MESSAGE = \"Hello, Server!\"\n",
    "client_thread(HOST, PORT, MESSAGE)\n"
   ]
  },
  {
   "cell_type": "code",
   "execution_count": null,
   "metadata": {},
   "outputs": [],
   "source": []
  },
  {
   "cell_type": "markdown",
   "metadata": {},
   "source": [
    "# After each testing"
   ]
  },
  {
   "cell_type": "code",
   "execution_count": 12,
   "metadata": {},
   "outputs": [],
   "source": [
    "!netstat -aon | findstr :5001"
   ]
  },
  {
   "cell_type": "code",
   "execution_count": 11,
   "metadata": {},
   "outputs": [
    {
     "name": "stderr",
     "output_type": "stream",
     "text": [
      "����: ��Ч����/ѡ�� - '#�ǵø�PID'��\n",
      "���� \"TASKKILL /?\" ���˽��÷���\n"
     ]
    }
   ],
   "source": [
    "!taskkill /PID 11688 /F #记得改PID"
   ]
  },
  {
   "cell_type": "code",
   "execution_count": 2,
   "metadata": {},
   "outputs": [
    {
     "name": "stderr",
     "output_type": "stream",
     "text": [
      "'rm' �����ڲ����ⲿ���Ҳ���ǿ����еĳ���\n",
      "���������ļ���\n"
     ]
    }
   ],
   "source": [
    "!rm debug.txt"
   ]
  }
 ],
 "metadata": {
  "kernelspec": {
   "display_name": "base",
   "language": "python",
   "name": "python3"
  },
  "language_info": {
   "codemirror_mode": {
    "name": "ipython",
    "version": 3
   },
   "file_extension": ".py",
   "mimetype": "text/x-python",
   "name": "python",
   "nbconvert_exporter": "python",
   "pygments_lexer": "ipython3",
   "version": "3.9.6"
  }
 },
 "nbformat": 4,
 "nbformat_minor": 2
}
