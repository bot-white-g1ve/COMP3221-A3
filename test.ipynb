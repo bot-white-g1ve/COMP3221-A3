{
 "cells": [
  {
   "cell_type": "markdown",
   "metadata": {},
   "source": [
    "# testing"
   ]
  },
  {
   "cell_type": "code",
   "execution_count": 2,
   "metadata": {},
   "outputs": [
    {
     "name": "stdout",
     "output_type": "stream",
     "text": [
      "^C\n"
     ]
    }
   ],
   "source": [
    "!python COMP3221_BlockchainNode.py 5000 test/A.txt"
   ]
  },
  {
   "cell_type": "code",
   "execution_count": 21,
   "metadata": {},
   "outputs": [],
   "source": []
  },
  {
   "cell_type": "code",
   "execution_count": 6,
   "metadata": {},
   "outputs": [],
   "source": [
    "import socket\n",
    "import network\n",
    "import json\n",
    "\n",
    "def send_transaction(address, msg: dict):\n",
    "    '''\n",
    "    msg is a json object being sent\n",
    "    '''\n",
    "    msg_str = json.dumps(msg)\n",
    "    msg_bytes = msg_str.encode('utf8')\n",
    "    client_socket = socket.socket(socket.AF_INET, socket.SOCK_STREAM)\n",
    "    host, port = address.split(':')\n",
    "    client_socket.connect((host, int(port)))\n",
    "\n",
    "    try:\n",
    "        # Send the transaction\n",
    "        network.send_prefixed(client_socket, msg_bytes)\n",
    "\n",
    "        # Wait for the response\n",
    "        response = network.recv_prefixed(client_socket)\n",
    "        response_json = json.loads(response.decode('utf8'))\n",
    "        print(f\"Received response: {response_json}\")\n",
    "\n",
    "    finally:\n",
    "        # Close the socket connection regardless of success or failure\n",
    "        client_socket.close()"
   ]
  },
  {
   "cell_type": "code",
   "execution_count": 11,
   "metadata": {},
   "outputs": [
    {
     "name": "stdout",
     "output_type": "stream",
     "text": [
      "Received response: {'response': True}\n"
     ]
    }
   ],
   "source": [
    "address = '0.0.0.0:6000'\n",
    "message = {\n",
    "    \"type\": \"transaction\",\n",
    "    \"payload\": {\n",
    "        \"sender\": \"a57819938feb51bb3f923496c9dacde3e9f667b214a0fb1653b6bfc0f185363b\",\n",
    "        \"message\": \"hello\",\n",
    "        \"nonce\": 0,\n",
    "        \"signature\": \"142e395895e0bf4e4a3a7c3aabf2f59d80c517d24bb2d98a1a24384bc7cb29c9d593ce3063c5dd4f12ae9393f3345174485c052d0f5e87c082f286fd60c7fd0c\"\n",
    "    }\n",
    "}\n",
    "\n",
    "send_transaction(address, message)\n"
   ]
  },
  {
   "cell_type": "markdown",
   "metadata": {},
   "source": [
    "# After each testing"
   ]
  },
  {
   "cell_type": "code",
   "execution_count": 4,
   "metadata": {},
   "outputs": [],
   "source": [
    "!netstat -aon | findstr :5000"
   ]
  },
  {
   "cell_type": "code",
   "execution_count": 6,
   "metadata": {},
   "outputs": [
    {
     "name": "stdout",
     "output_type": "stream",
     "text": [
      "�ɹ�: ����ֹ PID Ϊ 29216 �Ľ��̡�\n"
     ]
    }
   ],
   "source": [
    "!taskkill /PID 29216 /F"
   ]
  },
  {
   "cell_type": "code",
   "execution_count": 16,
   "metadata": {},
   "outputs": [],
   "source": [
    "!del debug.txt"
   ]
  }
 ],
 "metadata": {
  "kernelspec": {
   "display_name": "Python 3 (ipykernel)",
   "language": "python",
   "name": "python3"
  },
  "language_info": {
   "codemirror_mode": {
    "name": "ipython",
    "version": 3
   },
   "file_extension": ".py",
   "mimetype": "text/x-python",
   "name": "python",
   "nbconvert_exporter": "python",
   "pygments_lexer": "ipython3",
   "version": "3.9.6"
  }
 },
 "nbformat": 4,
 "nbformat_minor": 4
}
