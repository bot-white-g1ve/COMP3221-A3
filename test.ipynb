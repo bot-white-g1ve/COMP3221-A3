{
 "cells": [
  {
   "cell_type": "markdown",
   "metadata": {},
   "source": [
    "# testing"
   ]
  },
  {
   "cell_type": "markdown",
   "metadata": {},
   "source": [
    "## Launching"
   ]
  },
  {
   "cell_type": "code",
   "execution_count": 31,
   "metadata": {},
   "outputs": [
    {
     "name": "stderr",
     "output_type": "stream",
     "text": [
      "'run' �����ڲ����ⲿ���Ҳ���ǿ����еĳ���\n",
      "���������ļ���\n"
     ]
    }
   ],
   "source": [
    "!run test.cmd"
   ]
  },
  {
   "cell_type": "code",
   "execution_count": null,
   "metadata": {},
   "outputs": [],
   "source": [
    "!bash test.sh"
   ]
  },
  {
   "cell_type": "markdown",
   "metadata": {},
   "source": [
    "## Global Setting"
   ]
  },
  {
   "cell_type": "code",
   "execution_count": 23,
   "metadata": {},
   "outputs": [],
   "source": [
    "tester = \"Axel\"\n",
    "network_testing = True\n",
    "address = \"127.0.0.1:5000\"\n",
    "\n",
    "# Global Setting reflect to settings\n",
    "if tester == \"Axel\":\n",
    "    if not network_testing:\n",
    "        address = '100.86.126.26:5000'\n",
    "    if network_testing:\n",
    "        address = '172.20.10.4:6000'\n"
   ]
  },
  {
   "cell_type": "code",
   "execution_count": 23,
   "metadata": {},
   "outputs": [
    {
     "data": {
      "text/plain": [
       "<module 'crypto' from 'f:\\\\uniIssue\\\\Comp3221\\\\A3\\\\A3\\\\crypto.py'>"
      ]
     },
     "execution_count": 23,
     "metadata": {},
     "output_type": "execute_result"
    }
   ],
   "source": [
    "# Reloading the lib\n",
    "import importlib\n",
    "import crypto\n",
    "importlib.reload(crypto)"
   ]
  },
  {
   "cell_type": "markdown",
   "metadata": {},
   "source": [
    "## Testing"
   ]
  },
  {
   "cell_type": "code",
   "execution_count": 10,
   "metadata": {},
   "outputs": [],
   "source": [
    "import socket\n",
    "import network\n",
    "import json\n",
    "\n",
    "def send_transaction(address, msg: dict):\n",
    "    '''\n",
    "    msg is a json object being sent\n",
    "    '''\n",
    "    msg_str = json.dumps(msg)\n",
    "    msg_bytes = msg_str.encode('utf8')\n",
    "    client_socket = socket.socket(socket.AF_INET, socket.SOCK_STREAM)\n",
    "    host, port = address.split(':')\n",
    "    client_socket.connect((host, int(port)))\n",
    "\n",
    "    try:\n",
    "        # Send the transaction\n",
    "        network.send_prefixed(client_socket, msg_bytes)\n",
    "\n",
    "        # Wait for the response\n",
    "        response = network.recv_prefixed(client_socket)\n",
    "        response_json = json.loads(response.decode('utf8'))\n",
    "        print(f\"Received response: {response_json}\")\n",
    "\n",
    "    finally:\n",
    "        # Close the socket connection regardless of success or failure\n",
    "        client_socket.close()"
   ]
  },
  {
   "cell_type": "code",
   "execution_count": 28,
   "metadata": {},
   "outputs": [
    {
     "name": "stdout",
     "output_type": "stream",
     "text": [
      "Received response: {'response': False}\n"
     ]
    }
   ],
   "source": [
    "# Directly send\n",
    "message = {\n",
    "    \"type\": \"transaction\",\n",
    "    \"payload\": {\n",
    "        \"sender\": \"a57819938feb51bb3f923496c9dacde3e9f667b214a0fb1653b6bfc0f185363b\",\n",
    "        \"message\": \"hello\",\n",
    "        \"nonce\": 0,\n",
    "        \"signature\": \"142e395895e0bf4e4a3a7c3aabf2f59d80c517d24bb2d98a1a24384bc7cb29c9d593ce3063c5dd4f12ae9393f3345174485c052d0f5e87c082f286fd60c7fd0c\"\n",
    "    }\n",
    "}\n",
    "\n",
    "send_transaction(address, message)"
   ]
  },
  {
   "cell_type": "code",
   "execution_count": 11,
   "metadata": {},
   "outputs": [],
   "source": [
    "# Generate keypair (then send)\n",
    "from cryptography.hazmat.primitives.asymmetric import rsa\n",
    "from cryptography.hazmat.primitives import serialization, hashes\n",
    "from cryptography.hazmat.primitives.asymmetric import padding\n",
    "from cryptography.hazmat.primitives.asymmetric import ed25519\n",
    "import json\n",
    "import crypto\n",
    "\n",
    "# Generate RSA key pair\n",
    "private_key, public_key = crypto.generate_keypair_bytes()\n",
    "\n",
    "# Export the public key\n",
    "public_key_hex = crypto.publickey_bytes_to_hex(public_key)"
   ]
  },
  {
   "cell_type": "code",
   "execution_count": 26,
   "metadata": {},
   "outputs": [
    {
     "name": "stdout",
     "output_type": "stream",
     "text": [
      "The message sent is {'type': 'transaction', 'payload': {'sender': '6a927a3a58599cefb4aa316c8a3e8e387206d239aec0dd8dba306404fa68bf92', 'message': 'abaaba', 'nonce': 1, 'signature': '72488e7ffe36568321a04ade2e542957edb9238f64afe44022de7845ba939b7d4226a983776158c1443d1a174f646a849ac86bde585cb50b4bd0506295ca8e02'}}\n",
      "Send to 172.20.10.4:6000\n",
      "Received response: {'response': True}\n"
     ]
    }
   ],
   "source": [
    "payload = {\n",
    "    \"sender\": public_key_hex,\n",
    "    \"message\": \"abaaba\",\n",
    "    \"nonce\": 1,\n",
    "}\n",
    "\n",
    "message_wo_sig = json.dumps({\n",
    "        \"sender\": payload[\"sender\"],\n",
    "        \"message\": payload[\"message\"],\n",
    "        \"nonce\": payload[\"nonce\"]},\n",
    "        sort_keys=True)\n",
    "message_wo_sig_bytes = message_wo_sig.encode()\n",
    "\n",
    "# Generate signature\n",
    "signature = crypto.encrypt_with_privatekey(message_wo_sig_bytes, private_key)\n",
    "\n",
    "payload['signature'] = signature.hex()\n",
    "\n",
    "message = {\n",
    "    \"type\": \"transaction\",\n",
    "    \"payload\": payload\n",
    "}\n",
    "\n",
    "print(f\"The message sent is {message}\")\n",
    "print(f\"Send to {address}\")\n",
    "\n",
    "send_transaction(address, message)"
   ]
  },
  {
   "cell_type": "markdown",
   "metadata": {},
   "source": [
    "## Debugging"
   ]
  },
  {
   "cell_type": "code",
   "execution_count": 43,
   "metadata": {},
   "outputs": [
    {
     "name": "stdout",
     "output_type": "stream",
     "text": [
      "The signature is correct\n"
     ]
    }
   ],
   "source": [
    "# For debugging: verify the signature is correct\n",
    "signature_hex = payload[\"signature\"]\n",
    "signature_bytes = bytes.fromhex(signature_hex)\n",
    "\n",
    "public_key_bytes = bytes.fromhex(payload[\"sender\"])\n",
    "public_key = ed25519.Ed25519PublicKey.from_public_bytes(public_key_bytes)\n",
    "\n",
    "try:\n",
    "    public_key.verify(signature_bytes, message_wo_sig_bytes)\n",
    "    print(\"The signature is correct\")\n",
    "except Exception as e:\n",
    "    print(\"the signature is not corresponding to the message\")"
   ]
  },
  {
   "cell_type": "markdown",
   "metadata": {},
   "source": [
    "# After each testing"
   ]
  },
  {
   "cell_type": "code",
   "execution_count": 16,
   "metadata": {},
   "outputs": [],
   "source": [
    "device_used = \"mac\""
   ]
  },
  {
   "cell_type": "code",
   "execution_count": 30,
   "metadata": {},
   "outputs": [],
   "source": [
    "# Delete debug files\n",
    "import os\n",
    "import glob\n",
    "\n",
    "files = glob.glob('debug_for_*.txt')\n",
    "for f in files:\n",
    "    os.remove(f)"
   ]
  },
  {
   "cell_type": "code",
   "execution_count": null,
   "metadata": {},
   "outputs": [],
   "source": [
    "!netstat -aon | findstr :5000"
   ]
  },
  {
   "cell_type": "code",
   "execution_count": null,
   "metadata": {},
   "outputs": [],
   "source": [
    "!taskkill /PID 29216 /F"
   ]
  }
 ],
 "metadata": {
  "kernelspec": {
   "display_name": "Python 3 (ipykernel)",
   "language": "python",
   "name": "python3"
  },
  "language_info": {
   "codemirror_mode": {
    "name": "ipython",
    "version": 3
   },
   "file_extension": ".py",
   "mimetype": "text/x-python",
   "name": "python",
   "nbconvert_exporter": "python",
   "pygments_lexer": "ipython3",
   "version": "3.11.7"
  }
 },
 "nbformat": 4,
 "nbformat_minor": 4
}
