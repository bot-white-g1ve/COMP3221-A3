{
 "cells": [
  {
   "cell_type": "markdown",
   "metadata": {},
   "source": [
    "# testing"
   ]
  },
  {
   "cell_type": "markdown",
   "metadata": {},
   "source": [
    "## Launching"
   ]
  },
  {
   "cell_type": "code",
   "execution_count": null,
   "metadata": {},
   "outputs": [],
   "source": [
    "!bash test.sh"
   ]
  },
  {
   "cell_type": "markdown",
   "metadata": {},
   "source": [
    "for windows, double click test.cmd"
   ]
  },
  {
   "cell_type": "markdown",
   "metadata": {},
   "source": [
    "## Global Setting"
   ]
  },
  {
   "cell_type": "code",
   "execution_count": 1,
   "metadata": {},
   "outputs": [],
   "source": [
    "# Global Settings (You don't need to modify these)\n",
    "tester = \"\"\n",
    "network_testing = False\n",
    "address = \"127.0.0.1:5000\"\n",
    "\n",
    "# Global Setting reflect to settings\n",
    "if tester == \"A\":\n",
    "    if not network_testing:\n",
    "        address = '100.86.126.26:5000'\n",
    "    if network_testing:\n",
    "        address = '172.20.10.4:6000'\n"
   ]
  },
  {
   "cell_type": "code",
   "execution_count": 23,
   "metadata": {},
   "outputs": [
    {
     "data": {
      "text/plain": [
       "<module 'crypto' from 'f:\\\\uniIssue\\\\Comp3221\\\\A3\\\\A3\\\\crypto.py'>"
      ]
     },
     "execution_count": 23,
     "metadata": {},
     "output_type": "execute_result"
    }
   ],
   "source": [
    "# Reloading the lib\n",
    "import importlib\n",
    "import crypto\n",
    "importlib.reload(crypto)"
   ]
  },
  {
   "cell_type": "markdown",
   "metadata": {},
   "source": [
    "## Testing"
   ]
  },
  {
   "cell_type": "markdown",
   "metadata": {},
   "source": [
    "## Pre-defined function"
   ]
  },
  {
   "cell_type": "code",
   "execution_count": 3,
   "metadata": {},
   "outputs": [],
   "source": [
    "import socket\n",
    "import network\n",
    "import json\n",
    "\n",
    "def send_transaction(address, msg: dict):\n",
    "    '''\n",
    "    msg is a json object being sent\n",
    "    '''\n",
    "    msg_str = json.dumps(msg)\n",
    "    msg_bytes = msg_str.encode('utf8')\n",
    "    client_socket = socket.socket(socket.AF_INET, socket.SOCK_STREAM)\n",
    "    host, port = address.split(':')\n",
    "    client_socket.connect((host, int(port)))\n",
    "\n",
    "    try:\n",
    "        # Send the transaction\n",
    "        network.send_prefixed(client_socket, msg_bytes)\n",
    "\n",
    "        # Wait for the response\n",
    "        response = network.recv_prefixed(client_socket)\n",
    "        response_json = json.loads(response.decode('utf8'))\n",
    "        print(f\"Received response: {response_json}\")\n",
    "\n",
    "    finally:\n",
    "        # Close the socket connection regardless of success or failure\n",
    "        client_socket.close()"
   ]
  },
  {
   "cell_type": "markdown",
   "metadata": {},
   "source": [
    "## Directly send"
   ]
  },
  {
   "cell_type": "code",
   "execution_count": 4,
   "metadata": {},
   "outputs": [
    {
     "name": "stdout",
     "output_type": "stream",
     "text": [
      "Received response: {'response': True}\n"
     ]
    }
   ],
   "source": [
    "# Directly send\n",
    "message = {\n",
    "    \"type\": \"transaction\",\n",
    "    \"payload\": {\n",
    "        \"sender\": \"a57819938feb51bb3f923496c9dacde3e9f667b214a0fb1653b6bfc0f185363b\",\n",
    "        \"message\": \"hello\",\n",
    "        \"nonce\": 0,\n",
    "        \"signature\": \"142e395895e0bf4e4a3a7c3aabf2f59d80c517d24bb2d98a1a24384bc7cb29c9d593ce3063c5dd4f12ae9393f3345174485c052d0f5e87c082f286fd60c7fd0c\"\n",
    "    }\n",
    "}\n",
    "\n",
    "send_transaction(address, message)"
   ]
  },
  {
   "cell_type": "markdown",
   "metadata": {},
   "source": [
    "## Generate Keypair and Send"
   ]
  },
  {
   "cell_type": "code",
   "execution_count": 5,
   "metadata": {},
   "outputs": [],
   "source": [
    "# Generate keypair (then send)\n",
    "from cryptography.hazmat.primitives.asymmetric import rsa\n",
    "from cryptography.hazmat.primitives import serialization, hashes\n",
    "from cryptography.hazmat.primitives.asymmetric import padding\n",
    "from cryptography.hazmat.primitives.asymmetric import ed25519\n",
    "import json\n",
    "import crypto\n",
    "\n",
    "# Generate RSA key pair\n",
    "private_key, public_key = crypto.generate_keypair_bytes()\n",
    "\n",
    "# Export the public key\n",
    "public_key_hex = crypto.publickey_bytes_to_hex(public_key)"
   ]
  },
  {
   "cell_type": "code",
   "execution_count": 6,
   "metadata": {},
   "outputs": [
    {
     "name": "stdout",
     "output_type": "stream",
     "text": [
      "The message sent is {'type': 'transaction', 'payload': {'sender': 'eb12e244bbd6a2194b841cb26b352aa7e545fa9a1e03143c5be5b3fc673926e0', 'message': 'abaaba', 'nonce': 0, 'signature': '2b6391c6e275fb6bef8b504d47f6b0fbf1ea0a835e3e1a2ff53234980bc41519aab54e83e9a4ecd03db1470866c2534aa2024f483f3ccb63460549036cbb440f'}}\n",
      "Send to 127.0.0.1:5000\n",
      "Received response: {'response': True}\n"
     ]
    }
   ],
   "source": [
    "payload = {\n",
    "    \"sender\": public_key_hex,\n",
    "    \"message\": \"abaaba\",\n",
    "    \"nonce\": 0,\n",
    "}\n",
    "\n",
    "message_wo_sig = json.dumps({\n",
    "        \"sender\": payload[\"sender\"],\n",
    "        \"message\": payload[\"message\"],\n",
    "        \"nonce\": payload[\"nonce\"]},\n",
    "        sort_keys=True)\n",
    "message_wo_sig_bytes = message_wo_sig.encode()\n",
    "\n",
    "# Generate signature\n",
    "signature = crypto.encrypt_with_privatekey(message_wo_sig_bytes, private_key)\n",
    "\n",
    "payload['signature'] = signature.hex()\n",
    "\n",
    "message = {\n",
    "    \"type\": \"transaction\",\n",
    "    \"payload\": payload\n",
    "}\n",
    "\n",
    "print(f\"The message sent is {message}\")\n",
    "print(f\"Send to {address}\")\n",
    "\n",
    "send_transaction(address, message)"
   ]
  },
  {
   "cell_type": "code",
   "execution_count": 24,
   "metadata": {},
   "outputs": [
    {
     "name": "stdout",
     "output_type": "stream",
     "text": [
      "The message sent is {'type': 'transaction', 'payload': {'sender': 'eb12e244bbd6a2194b841cb26b352aa7e545fa9a1e03143c5be5b3fc673926e0', 'message': 'abaaba', 'nonce': 10, 'signature': '41e0266a3d818225b256cd202f09392945df838d0a5ddb9ed8f292ed615add9277d493687a605c79d11feef39d1194c7ea9359cfafa345e9a29e5837cd16c805'}}\n",
      "Send to 127.0.0.1:5000\n",
      "Received response: {'response': True}\n",
      "The message sent is {'type': 'transaction', 'payload': {'sender': 'eb12e244bbd6a2194b841cb26b352aa7e545fa9a1e03143c5be5b3fc673926e0', 'message': 'abaaba', 'nonce': 11, 'signature': 'b516c6ab916e692e43a75019654dd4898cbb0156aaaa4c129b26d117784a9c958a25b981a35e296b0d573d4678877137feeb4d1992c58b993f81f984544e690d'}}\n",
      "Send to 127.0.0.1:5000\n",
      "Received response: {'response': True}\n"
     ]
    }
   ],
   "source": [
    "# Continuious send two transactions\n",
    "payload = {\n",
    "    \"sender\": public_key_hex,\n",
    "    \"message\": \"abaaba\",\n",
    "    \"nonce\": 0,\n",
    "}\n",
    "\n",
    "message_wo_sig = json.dumps({\n",
    "        \"sender\": payload[\"sender\"],\n",
    "        \"message\": payload[\"message\"],\n",
    "        \"nonce\": payload[\"nonce\"]},\n",
    "        sort_keys=True)\n",
    "message_wo_sig_bytes = message_wo_sig.encode()\n",
    "\n",
    "# Generate signature\n",
    "signature = crypto.encrypt_with_privatekey(message_wo_sig_bytes, private_key)\n",
    "\n",
    "payload['signature'] = signature.hex()\n",
    "\n",
    "message = {\n",
    "    \"type\": \"transaction\",\n",
    "    \"payload\": payload\n",
    "}\n",
    "\n",
    "print(f\"The message sent is {message}\")\n",
    "print(f\"Send to {address}\")\n",
    "\n",
    "send_transaction(address, message)\n",
    "\n",
    "payload['nonce'] += 1\n",
    "\n",
    "message_wo_sig = json.dumps({\n",
    "        \"sender\": payload[\"sender\"],\n",
    "        \"message\": payload[\"message\"],\n",
    "        \"nonce\": payload[\"nonce\"]},\n",
    "        sort_keys=True)\n",
    "message_wo_sig_bytes = message_wo_sig.encode()\n",
    "\n",
    "# Generate signature\n",
    "signature = crypto.encrypt_with_privatekey(message_wo_sig_bytes, private_key)\n",
    "\n",
    "payload['signature'] = signature.hex()\n",
    "\n",
    "message = {\n",
    "    \"type\": \"transaction\",\n",
    "    \"payload\": payload\n",
    "}\n",
    "\n",
    "print(f\"The message sent is {message}\")\n",
    "print(f\"Send to {address}\")\n",
    "\n",
    "send_transaction(address, message)"
   ]
  },
  {
   "cell_type": "markdown",
   "metadata": {},
   "source": [
    "## Debugging"
   ]
  },
  {
   "cell_type": "code",
   "execution_count": 43,
   "metadata": {},
   "outputs": [
    {
     "name": "stdout",
     "output_type": "stream",
     "text": [
      "The signature is correct\n"
     ]
    }
   ],
   "source": [
    "# For debugging: verify the signature is correct\n",
    "signature_hex = payload[\"signature\"]\n",
    "signature_bytes = bytes.fromhex(signature_hex)\n",
    "\n",
    "public_key_bytes = bytes.fromhex(payload[\"sender\"])\n",
    "public_key = ed25519.Ed25519PublicKey.from_public_bytes(public_key_bytes)\n",
    "\n",
    "try:\n",
    "    public_key.verify(signature_bytes, message_wo_sig_bytes)\n",
    "    print(\"The signature is correct\")\n",
    "except Exception as e:\n",
    "    print(\"the signature is not corresponding to the message\")"
   ]
  },
  {
   "cell_type": "markdown",
   "metadata": {},
   "source": [
    "# After each testing"
   ]
  },
  {
   "cell_type": "code",
   "execution_count": 30,
   "metadata": {},
   "outputs": [],
   "source": [
    "# Delete debug files\n",
    "import os\n",
    "import glob\n",
    "\n",
    "files = glob.glob('debug_for_*.txt')\n",
    "for f in files:\n",
    "    os.remove(f)"
   ]
  },
  {
   "cell_type": "code",
   "execution_count": 9,
   "metadata": {},
   "outputs": [
    {
     "name": "stdout",
     "output_type": "stream",
     "text": [
      "netstat: illegal option -- o\n",
      "Usage:\tnetstat [-AaLlnW] [-f address_family | -p protocol]\n",
      "\tnetstat [-gilns] [-f address_family]\n",
      "\tnetstat -i | -I interface [-w wait] [-abdgRtS]\n",
      "\tnetstat -s [-s] [-f address_family | -p protocol] [-w wait]\n",
      "\tnetstat -i | -I interface -s [-f address_family | -p protocol]\n",
      "\tnetstat -m [-m]\n",
      "\tnetstat -r [-Aaln] [-f address_family]\n",
      "\tnetstat -rs [-s]\n",
      "\n",
      "zsh:1: command not found: findstr\n"
     ]
    }
   ],
   "source": [
    "# Use if the port is blocked\n",
    "!netstat -aon | findstr :5000"
   ]
  },
  {
   "cell_type": "code",
   "execution_count": null,
   "metadata": {},
   "outputs": [],
   "source": [
    "# Use if the port is blocked\n",
    "!taskkill /PID 29216 /F"
   ]
  },
  {
   "cell_type": "code",
   "execution_count": 13,
   "metadata": {},
   "outputs": [],
   "source": [
    "!lsof -iTCP:5001 -sTCP:LISTEN -n -P"
   ]
  }
 ],
 "metadata": {
  "kernelspec": {
   "display_name": "Python 3 (ipykernel)",
   "language": "python",
   "name": "python3"
  },
  "language_info": {
   "codemirror_mode": {
    "name": "ipython",
    "version": 3
   },
   "file_extension": ".py",
   "mimetype": "text/x-python",
   "name": "python",
   "nbconvert_exporter": "python",
   "pygments_lexer": "ipython3",
   "version": "3.9.6"
  }
 },
 "nbformat": 4,
 "nbformat_minor": 4
}
